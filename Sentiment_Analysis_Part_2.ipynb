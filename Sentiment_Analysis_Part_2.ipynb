{
  "nbformat": 4,
  "nbformat_minor": 0,
  "metadata": {
    "colab": {
      "name": "Sentiment Analysis - Part 2.ipynb",
      "version": "0.3.2",
      "provenance": [],
      "collapsed_sections": [],
      "include_colab_link": true
    },
    "kernelspec": {
      "name": "python3",
      "display_name": "Python 3"
    },
    "accelerator": "GPU"
  },
  "cells": [
    {
      "cell_type": "markdown",
      "metadata": {
        "id": "view-in-github",
        "colab_type": "text"
      },
      "source": [
        "<a href=\"https://colab.research.google.com/github/BenjaminPhillips22/NLP-sentiment-analysis/blob/master/Sentiment_Analysis_Part_2.ipynb\" target=\"_parent\"><img src=\"https://colab.research.google.com/assets/colab-badge.svg\" alt=\"Open In Colab\"/></a>"
      ]
    },
    {
      "metadata": {
        "id": "TIFViUmB52RW",
        "colab_type": "text"
      },
      "cell_type": "markdown",
      "source": [
        "# Sentiment Analysis - Self-Trained Embeddings, Sentence Average\n",
        "\n",
        "This Notebook trains a neural network to determine if a movie review is positive or negative. Embeddings with 100 dimensions are created from the dataset itself. The input to the network is the average of the word embeddings of the review."
      ]
    },
    {
      "metadata": {
        "id": "S8ihkFkcQH18",
        "colab_type": "code",
        "colab": {}
      },
      "cell_type": "code",
      "source": [
        "!pip install torch\n",
        "!pip install torchtext"
      ],
      "execution_count": 0,
      "outputs": []
    },
    {
      "metadata": {
        "id": "clEVpVCkNv6a",
        "colab_type": "code",
        "colab": {}
      },
      "cell_type": "code",
      "source": [
        "import torch\n",
        "from torchtext import data\n",
        "from torchtext import datasets\n",
        "from torchtext import vocab\n",
        "\n",
        "from gensim.models.doc2vec import Doc2Vec, TaggedDocument\n",
        "\n",
        "import random\n",
        "import numpy as np\n",
        "\n",
        "import spacy\n",
        "import re\n",
        "import nltk\n",
        "from nltk.corpus import stopwords\n",
        "from nltk.stem import PorterStemmer\n",
        "from nltk.stem.wordnet import WordNetLemmatizer\n",
        "from textblob import Word\n",
        "\n"
      ],
      "execution_count": 0,
      "outputs": []
    },
    {
      "metadata": {
        "id": "iTJzu9gaNhAW",
        "colab_type": "code",
        "outputId": "92d60860-e91d-4227-dbf7-29246c2d5eee",
        "colab": {
          "base_uri": "https://localhost:8080/",
          "height": 50
        }
      },
      "cell_type": "code",
      "source": [
        "\n",
        "SEED = 1912\n",
        "\n",
        "torch.manual_seed(SEED)\n",
        "torch.cuda.manual_seed(SEED)\n",
        "torch.backends.cudnn.deterministic = True\n",
        "\n",
        "TEXT = data.Field(tokenize='spacy')\n",
        "LABEL = data.LabelField(dtype=torch.float)\n",
        "\n",
        "train_data, test_data = datasets.IMDB.splits(TEXT, LABEL)\n",
        "\n",
        "train_data, dev_data = train_data.split(random_state=random.seed(SEED))\n",
        "\n",
        "imdb_data = {'train': train_data, 'test': test_data, 'dev': dev_data }"
      ],
      "execution_count": 0,
      "outputs": [
        {
          "output_type": "stream",
          "text": [
            "downloading aclImdb_v1.tar.gz\n"
          ],
          "name": "stdout"
        },
        {
          "output_type": "stream",
          "text": [
            "aclImdb_v1.tar.gz: 100%|██████████| 84.1M/84.1M [00:07<00:00, 11.2MB/s]\n"
          ],
          "name": "stderr"
        }
      ]
    },
    {
      "metadata": {
        "id": "r3PZBVpFVFyo",
        "colab_type": "code",
        "colab": {}
      },
      "cell_type": "code",
      "source": [
        "nltk.download('stopwords')\n",
        "nltk.download('wordnet')  # for lemmatize()\n",
        "stop_words = stopwords.words('english')"
      ],
      "execution_count": 0,
      "outputs": []
    },
    {
      "metadata": {
        "id": "eGM-DZ8OVF_B",
        "colab_type": "code",
        "colab": {}
      },
      "cell_type": "code",
      "source": [
        "lem = WordNetLemmatizer()\n",
        "st = PorterStemmer()\n",
        "\n",
        "\n",
        "def clean_text(sentence, stop_words, lem, st):\n",
        "    \"\"\"\n",
        "    Take a sentence and clean it up. sentence is a list of strings    \n",
        "    \"\"\"\n",
        "    \n",
        "    sentence = [w.lower() for w in sentence]\n",
        "    sentence = [re.sub(r'[^A-Za-z0-9]+', '', w) for w in sentence]\n",
        "    sentence = [re.sub(r'https?:/\\/\\S+', '', w) for w in sentence]\n",
        "    sentence = [w for w in sentence if w not in stop_words]\n",
        "    sentence = [lem.lemmatize(w) for w in sentence]\n",
        "    sentence = [st.stem(w) for w in sentence]\n",
        "    sentence = list(filter(None, sentence))\n",
        "    return sentence"
      ],
      "execution_count": 0,
      "outputs": []
    },
    {
      "metadata": {
        "id": "kUSVSL6MGE4a",
        "colab_type": "text"
      },
      "cell_type": "markdown",
      "source": [
        "Create our own word vectors"
      ]
    },
    {
      "metadata": {
        "id": "EK5L7KNVNyql",
        "colab_type": "code",
        "colab": {}
      },
      "cell_type": "code",
      "source": [
        "documents = [TaggedDocument(clean_text(e.text, stop_words, lem, st), [e.label]) for e in imdb_data['train'].examples]\n",
        "model = Doc2Vec(documents, vector_size=100, window=20, min_count=10, workers=2, epochs=40)\n",
        "word_vectors = model.wv"
      ],
      "execution_count": 0,
      "outputs": []
    },
    {
      "metadata": {
        "id": "1pvpCdUQXNGa",
        "colab_type": "code",
        "outputId": "6b4e1494-1300-4375-93a1-99bf53767c97",
        "colab": {
          "base_uri": "https://localhost:8080/",
          "height": 272
        }
      },
      "cell_type": "code",
      "source": [
        "model.most_similar(positive=['film'])\n"
      ],
      "execution_count": 0,
      "outputs": [
        {
          "output_type": "stream",
          "text": [
            "/usr/local/lib/python3.6/dist-packages/ipykernel_launcher.py:1: DeprecationWarning: Call to deprecated `most_similar` (Method will be removed in 4.0.0, use self.wv.most_similar() instead).\n",
            "  \"\"\"Entry point for launching an IPython kernel.\n",
            "/usr/local/lib/python3.6/dist-packages/gensim/matutils.py:737: FutureWarning: Conversion of the second argument of issubdtype from `int` to `np.signedinteger` is deprecated. In future, it will be treated as `np.int64 == np.dtype(int).type`.\n",
            "  if np.issubdtype(vec.dtype, np.int):\n"
          ],
          "name": "stderr"
        },
        {
          "output_type": "execute_result",
          "data": {
            "text/plain": [
              "[('cinema', 0.466610312461853),\n",
              " ('indi', 0.424679696559906),\n",
              " ('franco', 0.4122822880744934),\n",
              " ('filmbr', 0.4018830955028534),\n",
              " ('oeuvr', 0.4004790484905243),\n",
              " ('worthwhil', 0.39420634508132935),\n",
              " ('filmmak', 0.38955575227737427),\n",
              " ('filmsbr', 0.38546454906463623),\n",
              " ('certainli', 0.38248181343078613),\n",
              " ('completist', 0.3814373016357422)]"
            ]
          },
          "metadata": {
            "tags": []
          },
          "execution_count": 120
        }
      ]
    },
    {
      "metadata": {
        "id": "s6AGwSvaYKy-",
        "colab_type": "code",
        "outputId": "0ea22dea-6e30-4ad6-fd22-b2c99e76e33e",
        "colab": {
          "base_uri": "https://localhost:8080/",
          "height": 272
        }
      },
      "cell_type": "code",
      "source": [
        "model.most_similar(positive=['good'])\n"
      ],
      "execution_count": 0,
      "outputs": [
        {
          "output_type": "stream",
          "text": [
            "/usr/local/lib/python3.6/dist-packages/ipykernel_launcher.py:1: DeprecationWarning: Call to deprecated `most_similar` (Method will be removed in 4.0.0, use self.wv.most_similar() instead).\n",
            "  \"\"\"Entry point for launching an IPython kernel.\n",
            "/usr/local/lib/python3.6/dist-packages/gensim/matutils.py:737: FutureWarning: Conversion of the second argument of issubdtype from `int` to `np.signedinteger` is deprecated. In future, it will be treated as `np.int64 == np.dtype(int).type`.\n",
            "  if np.issubdtype(vec.dtype, np.int):\n"
          ],
          "name": "stderr"
        },
        {
          "output_type": "execute_result",
          "data": {
            "text/plain": [
              "[('decent', 0.5909550189971924),\n",
              " ('alright', 0.5561862587928772),\n",
              " ('nice', 0.5455358028411865),\n",
              " ('darn', 0.4656652808189392),\n",
              " ('ok', 0.46072301268577576),\n",
              " ('okay', 0.458802193403244),\n",
              " ('weller', 0.45836615562438965),\n",
              " ('cool', 0.4398782253265381),\n",
              " ('great', 0.43936842679977417),\n",
              " ('nicebr', 0.43369394540786743)]"
            ]
          },
          "metadata": {
            "tags": []
          },
          "execution_count": 122
        }
      ]
    },
    {
      "metadata": {
        "id": "Yhm5KgOQ6foa",
        "colab_type": "code",
        "colab": {}
      },
      "cell_type": "code",
      "source": [
        ""
      ],
      "execution_count": 0,
      "outputs": []
    },
    {
      "metadata": {
        "id": "7uhDwJeD6hUl",
        "colab_type": "text"
      },
      "cell_type": "markdown",
      "source": [
        "Now I want to make a function to take a training example and output the average of the word embeddings"
      ]
    },
    {
      "metadata": {
        "id": "ZFRKlyr26gG0",
        "colab_type": "code",
        "colab": {}
      },
      "cell_type": "code",
      "source": [
        "\n",
        "def word_check(word, word_vectors):\n",
        "    if word in word_vectors.vocab:\n",
        "        return True, word_vectors[word]\n",
        "    return False, None"
      ],
      "execution_count": 0,
      "outputs": []
    },
    {
      "metadata": {
        "id": "8tkIyiK36gY0",
        "colab_type": "code",
        "colab": {}
      },
      "cell_type": "code",
      "source": [
        "def sentence_average(sentence, word_vectors):\n",
        "    \"\"\" sentence is a list of words\"\"\"\n",
        "    \n",
        "    embeds = []\n",
        "    for word in sentence:\n",
        "        boo, woo = word_check(word, word_vectors)\n",
        "        if boo:\n",
        "            embeds.append(woo)\n",
        "    \n",
        "    # no suitable words\n",
        "    if len(embeds)==0:\n",
        "        return np.zeros(shape=word_vectors['good'].shape)\n",
        "    return np.vstack(embeds).mean(axis=0)"
      ],
      "execution_count": 0,
      "outputs": []
    },
    {
      "metadata": {
        "id": "lMWLSAnaEuCh",
        "colab_type": "code",
        "outputId": "46f329c5-65d9-4a9c-eeab-19c4b91d6f31",
        "colab": {
          "base_uri": "https://localhost:8080/",
          "height": 67
        }
      },
      "cell_type": "code",
      "source": [
        "\n",
        "keys = ['train', 'test', 'dev']\n",
        "imdb_data_sentence_average = {}\n",
        "\n",
        "for k in keys:\n",
        "    print(k)\n",
        "    data_average = []\n",
        "    data_label = []\n",
        "    for ex in imdb_data[k].examples:\n",
        "        data_average.append(sentence_average(ex.text, word_vectors))\n",
        "        if ex.label == 'pos':\n",
        "            l = 1\n",
        "        elif ex.label == 'neg':\n",
        "            l = 0\n",
        "        else:\n",
        "            raise ValueError('unexpected value for label')\n",
        "\n",
        "        data_label.append(l)\n",
        "    \n",
        "    imdb_data_sentence_average[k] = torch.utils.data.TensorDataset(\n",
        "        torch.FloatTensor(data_average),\n",
        "        torch.FloatTensor(data_label)\n",
        "    )\n",
        "    \n",
        "        "
      ],
      "execution_count": 0,
      "outputs": [
        {
          "output_type": "stream",
          "text": [
            "train\n",
            "test\n",
            "dev\n"
          ],
          "name": "stdout"
        }
      ]
    },
    {
      "metadata": {
        "id": "s3KOqs2_FuSo",
        "colab_type": "code",
        "colab": {}
      },
      "cell_type": "code",
      "source": [
        "\n"
      ],
      "execution_count": 0,
      "outputs": []
    },
    {
      "metadata": {
        "id": "DoCtzq0gUjwG",
        "colab_type": "text"
      },
      "cell_type": "markdown",
      "source": [
        "Time to make a model!!!\n",
        "\n",
        "I experimented with different values for L2 Regularisation to prevent observed over-fitting"
      ]
    },
    {
      "metadata": {
        "id": "KAKGBtWKJi0i",
        "colab_type": "code",
        "colab": {}
      },
      "cell_type": "code",
      "source": [
        "def my_auc(y, pred):\n",
        "    import sklearn #.metrics.auc as auc\n",
        "    y = y.detach().cpu().numpy()\n",
        "    pred = pred.detach().cpu().numpy()\n",
        "\n",
        "    fpr, tpr, thresholds = sklearn.metrics.roc_curve(y, pred)\n",
        "    return sklearn.metrics.auc(fpr, tpr)\n",
        "\n",
        "\n",
        "def get_dataset_auc(dataset, model):\n",
        "    pred = model(dataset.tensors[0].cuda())\n",
        "    labels = dataset.tensors[1]\n",
        "    return my_auc(labels, pred)\n",
        "    "
      ],
      "execution_count": 0,
      "outputs": []
    },
    {
      "metadata": {
        "id": "1_YSsP4OL5_I",
        "colab_type": "code",
        "outputId": "41e9d45d-f86e-4888-dea3-d6914ae310cf",
        "colab": {
          "base_uri": "https://localhost:8080/",
          "height": 370
        }
      },
      "cell_type": "code",
      "source": [
        "BATCH_SIZE = 12\n",
        "EPOCH = 21\n",
        "\n",
        "net = torch.nn.Sequential(\n",
        "        torch.nn.Linear(100, 200),\n",
        "        torch.nn.LeakyReLU(),\n",
        "        torch.nn.Linear(200, 100),\n",
        "        torch.nn.LeakyReLU(),\n",
        "        torch.nn.Linear(100, 1),\n",
        "        torch.nn.Sigmoid()\n",
        "    ).cuda()\n",
        "\n",
        "loader = torch.utils.data.DataLoader(\n",
        "    dataset=imdb_data_sentence_average['train'], \n",
        "    batch_size=BATCH_SIZE, \n",
        "    shuffle=True, num_workers=2,)\n",
        "\n",
        "optimizer = torch.optim.Adam(net.parameters(), lr=1e-4, weight_decay=1e-3)  # weight_decay is L2 regularization\n",
        "criterion = torch.nn.BCEWithLogitsLoss().cuda()\n",
        "\n",
        "train_set_auc = []\n",
        "dev_set_auc = []\n",
        "\n",
        "\n",
        "for epoch in range(EPOCH):\n",
        "    for step, (batch_text, batch_label) in enumerate(loader): # for each training step\n",
        "        \n",
        "        batch_text = batch_text.cuda()\n",
        "        batch_label = batch_label.cuda()\n",
        "\n",
        "        optimizer.zero_grad()   # clear gradients for next train\n",
        "  \n",
        "        prediction = net(batch_text).squeeze(1)     # input x and predict based on x\n",
        "\n",
        "        loss = criterion(prediction, batch_label)     # must be (1. nn output, 2. target)\n",
        "        \n",
        "        loss.backward()         # backpropagation, compute gradients\n",
        "        \n",
        "        optimizer.step()        # apply gradients\n",
        "        \n",
        "    # every epoche, get the training data auc and dev data auc\n",
        "    tsa = get_dataset_auc(imdb_data_sentence_average['train'], net)\n",
        "    dsa = get_dataset_auc(imdb_data_sentence_average['dev'], net)\n",
        "    print('epoch: ', str(epoch), ' trainset auc: ', round(tsa, 2), ' dev set auc: ', round(dsa, 2))\n",
        "    train_set_auc.append(tsa)\n",
        "    dev_set_auc.append(dsa)\n",
        "    \n",
        "    # save and load models\n",
        "    # https://pytorch.org/tutorials/beginner/saving_loading_models.html\n",
        "    if epoch % 10 == 0:\n",
        "        torch.save(net.state_dict(), 'self_trained_embeddings_sentence_average_' + str(epoch))"
      ],
      "execution_count": 0,
      "outputs": [
        {
          "output_type": "stream",
          "text": [
            "epoch:  0  trainset auc:  0.87  dev set auc:  0.88\n",
            "epoch:  1  trainset auc:  0.88  dev set auc:  0.88\n",
            "epoch:  2  trainset auc:  0.88  dev set auc:  0.88\n",
            "epoch:  3  trainset auc:  0.88  dev set auc:  0.88\n",
            "epoch:  4  trainset auc:  0.89  dev set auc:  0.89\n",
            "epoch:  5  trainset auc:  0.89  dev set auc:  0.89\n",
            "epoch:  6  trainset auc:  0.89  dev set auc:  0.89\n",
            "epoch:  7  trainset auc:  0.89  dev set auc:  0.89\n",
            "epoch:  8  trainset auc:  0.89  dev set auc:  0.89\n",
            "epoch:  9  trainset auc:  0.89  dev set auc:  0.89\n",
            "epoch:  10  trainset auc:  0.89  dev set auc:  0.89\n",
            "epoch:  11  trainset auc:  0.9  dev set auc:  0.89\n",
            "epoch:  12  trainset auc:  0.9  dev set auc:  0.89\n",
            "epoch:  13  trainset auc:  0.9  dev set auc:  0.89\n",
            "epoch:  14  trainset auc:  0.9  dev set auc:  0.89\n",
            "epoch:  15  trainset auc:  0.9  dev set auc:  0.89\n",
            "epoch:  16  trainset auc:  0.91  dev set auc:  0.89\n",
            "epoch:  17  trainset auc:  0.91  dev set auc:  0.89\n",
            "epoch:  18  trainset auc:  0.91  dev set auc:  0.89\n",
            "epoch:  19  trainset auc:  0.91  dev set auc:  0.89\n",
            "epoch:  20  trainset auc:  0.91  dev set auc:  0.89\n"
          ],
          "name": "stdout"
        }
      ]
    },
    {
      "metadata": {
        "id": "GSkbCgo8ZShT",
        "colab_type": "code",
        "outputId": "0369820f-d3b1-4262-fd06-cfe859d74491",
        "colab": {
          "base_uri": "https://localhost:8080/",
          "height": 310
        }
      },
      "cell_type": "code",
      "source": [
        "import matplotlib.pyplot as plt\n",
        "%matplotlib inline\n",
        "\n",
        "title = 'Self Trained Embeddings Sentence Average'\n",
        "\n",
        "epochs = np.array(range(len(train_set_auc))) + 1\n",
        "plt.figure(figsize=(4,4))\n",
        "plt.plot(epochs, train_set_auc, color = \"orange\", label='train')\n",
        "plt.plot(epochs, dev_set_auc, color = \"blue\", label='dev')\n",
        "plt.legend(loc='lower right')\n",
        "plt.title(title)\n",
        "plt.xlabel('Epochs')\n",
        "plt.ylabel('AUC')\n",
        "# plt.ylim((-0.05, 1.05))\n",
        "plt.show()\n",
        "\n",
        "fn = title + '.png'\n",
        "plt.savefig(fn)\n",
        "from google.colab import files\n",
        "files.download(fn) "
      ],
      "execution_count": 0,
      "outputs": [
        {
          "output_type": "display_data",
          "data": {
            "image/png": "[encoded data removed]",
            "text/plain": [
              "<Figure size 288x288 with 1 Axes>"
            ]
          },
          "metadata": {
            "tags": []
          }
        },
        {
          "output_type": "display_data",
          "data": {
            "text/plain": [
              "<Figure size 432x288 with 0 Axes>"
            ]
          },
          "metadata": {
            "tags": []
          }
        }
      ]
    },
    {
      "metadata": {
        "id": "uSIPjSzAZSu_",
        "colab_type": "code",
        "outputId": "df3894fd-3981-425f-a042-0acc963b5c55",
        "colab": {
          "base_uri": "https://localhost:8080/",
          "height": 101
        }
      },
      "cell_type": "code",
      "source": [
        "\n",
        "!ls"
      ],
      "execution_count": 0,
      "outputs": [
        {
          "output_type": "stream",
          "text": [
            " sample_data\n",
            " self_trained_embeddings_sentence_average_0\n",
            " self_trained_embeddings_sentence_average_10\n",
            " self_trained_embeddings_sentence_average_20\n",
            "'Self Trained Embeddings Sentence Average.png'\n"
          ],
          "name": "stdout"
        }
      ]
    },
    {
      "metadata": {
        "id": "OVkjs8_cNjag",
        "colab_type": "text"
      },
      "cell_type": "markdown",
      "source": [
        "How does it go on the test data?"
      ]
    },
    {
      "metadata": {
        "id": "GUbFJU4QJ7E6",
        "colab_type": "code",
        "outputId": "bc86c85b-62b7-407e-c835-c3c5a0007d20",
        "colab": {
          "base_uri": "https://localhost:8080/",
          "height": 34
        }
      },
      "cell_type": "code",
      "source": [
        "net_1 = torch.nn.Sequential(\n",
        "        torch.nn.Linear(100, 200),\n",
        "        torch.nn.LeakyReLU(),\n",
        "        torch.nn.Linear(200, 100),\n",
        "        torch.nn.LeakyReLU(),\n",
        "        torch.nn.Linear(100, 1),\n",
        "    ).cuda()\n",
        "net_1.load_state_dict(torch.load('self_trained_embeddings_sentence_average_20'))\n",
        "get_dataset_auc(imdb_data_sentence_average['test'], net_1)"
      ],
      "execution_count": 0,
      "outputs": [
        {
          "output_type": "execute_result",
          "data": {
            "text/plain": [
              "0.878875248"
            ]
          },
          "metadata": {
            "tags": []
          },
          "execution_count": 163
        }
      ]
    },
    {
      "metadata": {
        "id": "o8AdOvFBe3WH",
        "colab_type": "code",
        "colab": {}
      },
      "cell_type": "code",
      "source": [
        ""
      ],
      "execution_count": 0,
      "outputs": []
    },
    {
      "metadata": {
        "id": "QskejkYYBbyh",
        "colab_type": "code",
        "colab": {}
      },
      "cell_type": "code",
      "source": [
        ""
      ],
      "execution_count": 0,
      "outputs": []
    }
  ]
}