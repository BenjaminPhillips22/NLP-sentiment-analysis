{
  "nbformat": 4,
  "nbformat_minor": 0,
  "metadata": {
    "colab": {
      "name": "Sentiment Analysis - Part 1",
      "version": "0.3.2",
      "provenance": [],
      "collapsed_sections": [],
      "include_colab_link": true
    },
    "kernelspec": {
      "name": "python3",
      "display_name": "Python 3"
    },
    "accelerator": "GPU"
  },
  "cells": [
    {
      "cell_type": "markdown",
      "metadata": {
        "id": "view-in-github",
        "colab_type": "text"
      },
      "source": [
        "<a href=\"https://colab.research.google.com/github/BenjaminPhillips22/NLP-sentiment-analysis/blob/master/Sentiment_Analysis_Part_1.ipynb\" target=\"_parent\"><img src=\"https://colab.research.google.com/assets/colab-badge.svg\" alt=\"Open In Colab\"/></a>"
      ]
    },
    {
      "metadata": {
        "id": "bZjuju6z3bTi",
        "colab_type": "text"
      },
      "cell_type": "markdown",
      "source": [
        "# Sentiment Analysis - Pre-Trained Embeddings, Sentence Average\n",
        "\n",
        "This Notebook trains a neural network to determine if a movie review is positive or negative. Pretrained work embeddings with 100 dimensions are used. The input to the network is the average of the word embeddings of the review."
      ]
    },
    {
      "metadata": {
        "id": "jhnsHH1N4hO0",
        "colab_type": "code",
        "colab": {}
      },
      "cell_type": "code",
      "source": [
        "!pip install torch\n",
        "!pip install torchtext"
      ],
      "execution_count": 0,
      "outputs": []
    },
    {
      "metadata": {
        "id": "clEVpVCkNv6a",
        "colab_type": "code",
        "colab": {}
      },
      "cell_type": "code",
      "source": [
        "import torch\n",
        "from torchtext import data\n",
        "from torchtext import datasets\n",
        "from torchtext import vocab\n",
        "\n",
        "import random\n",
        "import numpy as np\n",
        "import gensim.downloader as api\n",
        "\n",
        "import spacy\n",
        "import re"
      ],
      "execution_count": 0,
      "outputs": []
    },
    {
      "metadata": {
        "id": "iTJzu9gaNhAW",
        "colab_type": "code",
        "colab": {}
      },
      "cell_type": "code",
      "source": [
        "\n",
        "SEED = 1912\n",
        "\n",
        "torch.manual_seed(SEED)\n",
        "torch.cuda.manual_seed(SEED)\n",
        "torch.backends.cudnn.deterministic = True\n",
        "\n",
        "TEXT = data.Field(tokenize='spacy')\n",
        "LABEL = data.LabelField(dtype=torch.float)\n",
        "\n",
        "train_data, test_data = datasets.IMDB.splits(TEXT, LABEL)\n",
        "\n",
        "train_data, dev_data = train_data.split(random_state=random.seed(SEED))\n",
        "\n",
        "imdb_data = {'train': train_data, 'test': test_data, 'dev': dev_data }"
      ],
      "execution_count": 0,
      "outputs": []
    },
    {
      "metadata": {
        "id": "rVrTMknKsBOq",
        "colab_type": "code",
        "outputId": "16484920-c61a-4379-ed07-c01257644cae",
        "colab": {
          "base_uri": "https://localhost:8080/",
          "height": 34
        }
      },
      "cell_type": "code",
      "source": [
        "word_vectors = api.load(\"glove-wiki-gigaword-100\")  # load pre-trained word-vectors from gensim-data\n"
      ],
      "execution_count": 0,
      "outputs": [
        {
          "output_type": "stream",
          "text": [
            "[==================================================] 100.0% 128.1/128.1MB downloaded\n"
          ],
          "name": "stdout"
        }
      ]
    },
    {
      "metadata": {
        "id": "J4RKjKTj4-y1",
        "colab_type": "text"
      },
      "cell_type": "markdown",
      "source": [
        "Some fun with word embeddings"
      ]
    },
    {
      "metadata": {
        "id": "Y48AzibusBYK",
        "colab_type": "code",
        "outputId": "96ea6c9c-9eec-4cd6-af09-c756e40480d7",
        "colab": {
          "base_uri": "https://localhost:8080/",
          "height": 302
        }
      },
      "cell_type": "code",
      "source": [
        "word_vectors['the']"
      ],
      "execution_count": 0,
      "outputs": [
        {
          "output_type": "execute_result",
          "data": {
            "text/plain": [
              "array([-0.038194, -0.24487 ,  0.72812 , -0.39961 ,  0.083172,  0.043953,\n",
              "       -0.39141 ,  0.3344  , -0.57545 ,  0.087459,  0.28787 , -0.06731 ,\n",
              "        0.30906 , -0.26384 , -0.13231 , -0.20757 ,  0.33395 , -0.33848 ,\n",
              "       -0.31743 , -0.48336 ,  0.1464  , -0.37304 ,  0.34577 ,  0.052041,\n",
              "        0.44946 , -0.46971 ,  0.02628 , -0.54155 , -0.15518 , -0.14107 ,\n",
              "       -0.039722,  0.28277 ,  0.14393 ,  0.23464 , -0.31021 ,  0.086173,\n",
              "        0.20397 ,  0.52624 ,  0.17164 , -0.082378, -0.71787 , -0.41531 ,\n",
              "        0.20335 , -0.12763 ,  0.41367 ,  0.55187 ,  0.57908 , -0.33477 ,\n",
              "       -0.36559 , -0.54857 , -0.062892,  0.26584 ,  0.30205 ,  0.99775 ,\n",
              "       -0.80481 , -3.0243  ,  0.01254 , -0.36942 ,  2.2167  ,  0.72201 ,\n",
              "       -0.24978 ,  0.92136 ,  0.034514,  0.46745 ,  1.1079  , -0.19358 ,\n",
              "       -0.074575,  0.23353 , -0.052062, -0.22044 ,  0.057162, -0.15806 ,\n",
              "       -0.30798 , -0.41625 ,  0.37972 ,  0.15006 , -0.53212 , -0.2055  ,\n",
              "       -1.2526  ,  0.071624,  0.70565 ,  0.49744 , -0.42063 ,  0.26148 ,\n",
              "       -1.538   , -0.30223 , -0.073438, -0.28312 ,  0.37104 , -0.25217 ,\n",
              "        0.016215, -0.017099, -0.38984 ,  0.87424 , -0.72569 , -0.51058 ,\n",
              "       -0.52028 , -0.1459  ,  0.8278  ,  0.27062 ], dtype=float32)"
            ]
          },
          "metadata": {
            "tags": []
          },
          "execution_count": 115
        }
      ]
    },
    {
      "metadata": {
        "id": "7VXYOaVXsBhL",
        "colab_type": "code",
        "outputId": "a699038f-2298-491f-d6d0-ced388ff95d2",
        "colab": {
          "base_uri": "https://localhost:8080/",
          "height": 238
        }
      },
      "cell_type": "code",
      "source": [
        "word_vectors.most_similar(positive=['woman', 'king'], negative=['man'])"
      ],
      "execution_count": 0,
      "outputs": [
        {
          "output_type": "stream",
          "text": [
            "/usr/local/lib/python3.6/dist-packages/gensim/matutils.py:737: FutureWarning: Conversion of the second argument of issubdtype from `int` to `np.signedinteger` is deprecated. In future, it will be treated as `np.int64 == np.dtype(int).type`.\n",
            "  if np.issubdtype(vec.dtype, np.int):\n"
          ],
          "name": "stderr"
        },
        {
          "output_type": "execute_result",
          "data": {
            "text/plain": [
              "[('queen', 0.7698541283607483),\n",
              " ('monarch', 0.6843380928039551),\n",
              " ('throne', 0.6755735874176025),\n",
              " ('daughter', 0.6594556570053101),\n",
              " ('princess', 0.6520534753799438),\n",
              " ('prince', 0.6517034769058228),\n",
              " ('elizabeth', 0.6464517712593079),\n",
              " ('mother', 0.6311717629432678),\n",
              " ('emperor', 0.6106470823287964),\n",
              " ('wife', 0.6098655462265015)]"
            ]
          },
          "metadata": {
            "tags": []
          },
          "execution_count": 88
        }
      ]
    },
    {
      "metadata": {
        "id": "vNGPzreFwcCa",
        "colab_type": "code",
        "outputId": "353bae20-44c2-4f5d-ac3d-51c3ccc47cee",
        "colab": {
          "base_uri": "https://localhost:8080/",
          "height": 87
        }
      },
      "cell_type": "code",
      "source": [
        "word_vectors.doesnt_match(\"benjamin william thomas erica\".split())"
      ],
      "execution_count": 0,
      "outputs": [
        {
          "output_type": "stream",
          "text": [
            "/usr/local/lib/python3.6/dist-packages/gensim/matutils.py:737: FutureWarning: Conversion of the second argument of issubdtype from `int` to `np.signedinteger` is deprecated. In future, it will be treated as `np.int64 == np.dtype(int).type`.\n",
            "  if np.issubdtype(vec.dtype, np.int):\n"
          ],
          "name": "stderr"
        },
        {
          "output_type": "execute_result",
          "data": {
            "text/plain": [
              "'erica'"
            ]
          },
          "metadata": {
            "tags": []
          },
          "execution_count": 99
        }
      ]
    },
    {
      "metadata": {
        "id": "m887_sp0w9dh",
        "colab_type": "code",
        "outputId": "aecb89e0-1b83-49dc-8e51-8bebed2e8d14",
        "colab": {
          "base_uri": "https://localhost:8080/",
          "height": 238
        }
      },
      "cell_type": "code",
      "source": [
        "word_vectors.similar_by_word(\"cat\")"
      ],
      "execution_count": 0,
      "outputs": [
        {
          "output_type": "stream",
          "text": [
            "/usr/local/lib/python3.6/dist-packages/gensim/matutils.py:737: FutureWarning: Conversion of the second argument of issubdtype from `int` to `np.signedinteger` is deprecated. In future, it will be treated as `np.int64 == np.dtype(int).type`.\n",
            "  if np.issubdtype(vec.dtype, np.int):\n"
          ],
          "name": "stderr"
        },
        {
          "output_type": "execute_result",
          "data": {
            "text/plain": [
              "[('dog', 0.8798074722290039),\n",
              " ('rabbit', 0.7424426674842834),\n",
              " ('cats', 0.7323004007339478),\n",
              " ('monkey', 0.7288709878921509),\n",
              " ('pet', 0.7190139889717102),\n",
              " ('dogs', 0.7163872718811035),\n",
              " ('mouse', 0.6915250420570374),\n",
              " ('puppy', 0.6800068020820618),\n",
              " ('rat', 0.6641027331352234),\n",
              " ('spider', 0.6501135230064392)]"
            ]
          },
          "metadata": {
            "tags": []
          },
          "execution_count": 101
        }
      ]
    },
    {
      "metadata": {
        "id": "CuHYB0LAxAcg",
        "colab_type": "code",
        "outputId": "02867153-7c70-43b0-a78d-e2a5e1451590",
        "colab": {
          "base_uri": "https://localhost:8080/",
          "height": 238
        }
      },
      "cell_type": "code",
      "source": [
        "word_vectors.similar_by_word(\"ben\")"
      ],
      "execution_count": 0,
      "outputs": [
        {
          "output_type": "stream",
          "text": [
            "/usr/local/lib/python3.6/dist-packages/gensim/matutils.py:737: FutureWarning: Conversion of the second argument of issubdtype from `int` to `np.signedinteger` is deprecated. In future, it will be treated as `np.int64 == np.dtype(int).type`.\n",
            "  if np.issubdtype(vec.dtype, np.int):\n"
          ],
          "name": "stderr"
        },
        {
          "output_type": "execute_result",
          "data": {
            "text/plain": [
              "[('benjamin', 0.6143866181373596),\n",
              " ('eliezer', 0.6142445802688599),\n",
              " ('eddie', 0.6124265193939209),\n",
              " ('eric', 0.6064211130142212),\n",
              " ('sam', 0.5987447500228882),\n",
              " ('alan', 0.5984522104263306),\n",
              " ('danny', 0.5886530876159668),\n",
              " ('cohen', 0.5841774940490723),\n",
              " ('adam', 0.5837752223014832),\n",
              " ('david', 0.5786920785903931)]"
            ]
          },
          "metadata": {
            "tags": []
          },
          "execution_count": 103
        }
      ]
    },
    {
      "metadata": {
        "id": "Yhm5KgOQ6foa",
        "colab_type": "code",
        "colab": {}
      },
      "cell_type": "code",
      "source": [
        ""
      ],
      "execution_count": 0,
      "outputs": []
    },
    {
      "metadata": {
        "id": "7uhDwJeD6hUl",
        "colab_type": "text"
      },
      "cell_type": "markdown",
      "source": [
        "Now I want to make a function to take a training example and output the average of the word embeddings"
      ]
    },
    {
      "metadata": {
        "id": "ZFRKlyr26gG0",
        "colab_type": "code",
        "colab": {}
      },
      "cell_type": "code",
      "source": [
        "\n",
        "def word_check(word, word_vectors):\n",
        "    word = word.lower()\n",
        "    word = re.sub(r'[^A-Za-z0-9]+', '', word) # remove non alphanumeric character\n",
        "    word = re.sub(r'https?:/\\/\\S+', '', word) # remove links\n",
        "    if word in word_vectors.vocab:\n",
        "        return True, word_vectors[word]\n",
        "    return False, None"
      ],
      "execution_count": 0,
      "outputs": []
    },
    {
      "metadata": {
        "id": "8tkIyiK36gY0",
        "colab_type": "code",
        "colab": {}
      },
      "cell_type": "code",
      "source": [
        "def sentence_average(sentence, word_vectors):\n",
        "    \"\"\" sentence is a list of words\"\"\"\n",
        "    \n",
        "    embeds = []\n",
        "    for word in sentence:\n",
        "        boo, woo = word_check(word, word_vectors)\n",
        "        if boo:\n",
        "            embeds.append(woo)\n",
        "    \n",
        "    # no suitable words\n",
        "    if len(embeds)==0:\n",
        "        return np.zeros(shape=word_vectors['a'].shape)\n",
        "    return np.vstack(embeds).mean(axis=0)"
      ],
      "execution_count": 0,
      "outputs": []
    },
    {
      "metadata": {
        "id": "lMWLSAnaEuCh",
        "colab_type": "code",
        "outputId": "c9dede9b-72b5-4f11-a9c3-279b27cf4614",
        "colab": {
          "base_uri": "https://localhost:8080/",
          "height": 67
        }
      },
      "cell_type": "code",
      "source": [
        "keys = ['train', 'test', 'dev']\n",
        "imdb_data_sentence_average = {}\n",
        "\n",
        "for k in keys:\n",
        "    print(k)\n",
        "    data_average = []\n",
        "    data_label = []\n",
        "    for ex in imdb_data[k].examples:\n",
        "        data_average.append(sentence_average(ex.text, word_vectors))\n",
        "        if ex.label == 'pos':\n",
        "            l = 1\n",
        "        elif ex.label == 'neg':\n",
        "            l = 0\n",
        "        else:\n",
        "            raise ValueError('unexpected value for label')\n",
        "\n",
        "        data_label.append(l)\n",
        "    \n",
        "    imdb_data_sentence_average[k] = torch.utils.data.TensorDataset(\n",
        "        torch.FloatTensor(data_average),\n",
        "        torch.FloatTensor(data_label)\n",
        "    )\n",
        "    \n",
        "        "
      ],
      "execution_count": 0,
      "outputs": [
        {
          "output_type": "stream",
          "text": [
            "train\n",
            "test\n",
            "dev\n"
          ],
          "name": "stdout"
        }
      ]
    },
    {
      "metadata": {
        "id": "s3KOqs2_FuSo",
        "colab_type": "code",
        "colab": {}
      },
      "cell_type": "code",
      "source": [
        "\n"
      ],
      "execution_count": 0,
      "outputs": []
    },
    {
      "metadata": {
        "id": "DoCtzq0gUjwG",
        "colab_type": "text"
      },
      "cell_type": "markdown",
      "source": [
        "Time to make a model!!!"
      ]
    },
    {
      "metadata": {
        "id": "KAKGBtWKJi0i",
        "colab_type": "code",
        "colab": {}
      },
      "cell_type": "code",
      "source": [
        "def my_auc(y, pred):\n",
        "    import sklearn #.metrics.auc as auc\n",
        "    y = y.detach().cpu().numpy()\n",
        "    pred = pred.detach().cpu().numpy()\n",
        "\n",
        "    fpr, tpr, thresholds = sklearn.metrics.roc_curve(y, pred)\n",
        "    return sklearn.metrics.auc(fpr, tpr)\n",
        "\n",
        "\n",
        "def get_dataset_auc(dataset, model):\n",
        "    pred = model(dataset.tensors[0].cuda())\n",
        "    labels = dataset.tensors[1]\n",
        "    return my_auc(labels, pred)\n",
        "    "
      ],
      "execution_count": 0,
      "outputs": []
    },
    {
      "metadata": {
        "id": "1_YSsP4OL5_I",
        "colab_type": "code",
        "outputId": "321ff14b-6b28-4277-b0ff-df29de8c272d",
        "colab": {
          "base_uri": "https://localhost:8080/",
          "height": 874
        }
      },
      "cell_type": "code",
      "source": [
        "BATCH_SIZE = 64\n",
        "EPOCH = 51\n",
        "\n",
        "net = torch.nn.Sequential(\n",
        "        torch.nn.Linear(100, 200),\n",
        "        torch.nn.LeakyReLU(),\n",
        "        torch.nn.Linear(200, 100),\n",
        "        torch.nn.LeakyReLU(),\n",
        "        torch.nn.Linear(100, 1),\n",
        "        torch.nn.Sigmoid()\n",
        "    ).cuda()\n",
        "\n",
        "loader = torch.utils.data.DataLoader(\n",
        "    dataset=imdb_data_sentence_average['train'], \n",
        "    batch_size=BATCH_SIZE, \n",
        "    shuffle=True, num_workers=2,)\n",
        "\n",
        "optimizer = torch.optim.Adam(net.parameters())\n",
        "criterion = torch.nn.BCEWithLogitsLoss().cuda()\n",
        "\n",
        "train_set_auc = []\n",
        "dev_set_auc = []\n",
        "\n",
        "\n",
        "for epoch in range(EPOCH):\n",
        "    for step, (batch_text, batch_label) in enumerate(loader): # for each training step\n",
        "        \n",
        "        batch_text = batch_text.cuda()\n",
        "        batch_label = batch_label.cuda()\n",
        "\n",
        "        optimizer.zero_grad()   # clear gradients for next train\n",
        "  \n",
        "        prediction = net(batch_text).squeeze(1)     # input x and predict based on x\n",
        "\n",
        "        loss = criterion(prediction, batch_label)     # must be (1. nn output, 2. target)\n",
        "        \n",
        "        loss.backward()         # backpropagation, compute gradients\n",
        "        \n",
        "        optimizer.step()        # apply gradients\n",
        "        \n",
        "    # every epoche, get the training data auc and dev data auc\n",
        "    tsa = get_dataset_auc(imdb_data_sentence_average['train'], net)\n",
        "    dsa = get_dataset_auc(imdb_data_sentence_average['dev'], net)\n",
        "    print('epoch: ', str(epoch), ' trainset auc: ', round(tsa, 2), ' dev set auc: ', round(dsa, 2))\n",
        "    train_set_auc.append(tsa)\n",
        "    dev_set_auc.append(dsa)\n",
        "    \n",
        "    # save and load models\n",
        "    # https://pytorch.org/tutorials/beginner/saving_loading_models.html\n",
        "    if epoch % 10 == 0:\n",
        "        torch.save(net.state_dict(), 'pretrained_embeddings_sentence_average_' + str(epoch))"
      ],
      "execution_count": 0,
      "outputs": [
        {
          "output_type": "stream",
          "text": [
            "epoch:  0  trainset auc:  0.85  dev set auc:  0.84\n",
            "epoch:  1  trainset auc:  0.87  dev set auc:  0.86\n",
            "epoch:  2  trainset auc:  0.87  dev set auc:  0.86\n",
            "epoch:  3  trainset auc:  0.87  dev set auc:  0.87\n",
            "epoch:  4  trainset auc:  0.88  dev set auc:  0.87\n",
            "epoch:  5  trainset auc:  0.88  dev set auc:  0.87\n",
            "epoch:  6  trainset auc:  0.88  dev set auc:  0.87\n",
            "epoch:  7  trainset auc:  0.88  dev set auc:  0.87\n",
            "epoch:  8  trainset auc:  0.89  dev set auc:  0.87\n",
            "epoch:  9  trainset auc:  0.88  dev set auc:  0.87\n",
            "epoch:  10  trainset auc:  0.89  dev set auc:  0.87\n",
            "epoch:  11  trainset auc:  0.88  dev set auc:  0.87\n",
            "epoch:  12  trainset auc:  0.89  dev set auc:  0.88\n",
            "epoch:  13  trainset auc:  0.89  dev set auc:  0.88\n",
            "epoch:  14  trainset auc:  0.89  dev set auc:  0.88\n",
            "epoch:  15  trainset auc:  0.89  dev set auc:  0.88\n",
            "epoch:  16  trainset auc:  0.89  dev set auc:  0.88\n",
            "epoch:  17  trainset auc:  0.89  dev set auc:  0.88\n",
            "epoch:  18  trainset auc:  0.89  dev set auc:  0.88\n",
            "epoch:  19  trainset auc:  0.89  dev set auc:  0.88\n",
            "epoch:  20  trainset auc:  0.89  dev set auc:  0.88\n",
            "epoch:  21  trainset auc:  0.89  dev set auc:  0.88\n",
            "epoch:  22  trainset auc:  0.89  dev set auc:  0.88\n",
            "epoch:  23  trainset auc:  0.9  dev set auc:  0.88\n",
            "epoch:  24  trainset auc:  0.9  dev set auc:  0.88\n",
            "epoch:  25  trainset auc:  0.9  dev set auc:  0.88\n",
            "epoch:  26  trainset auc:  0.9  dev set auc:  0.88\n",
            "epoch:  27  trainset auc:  0.9  dev set auc:  0.88\n",
            "epoch:  28  trainset auc:  0.9  dev set auc:  0.88\n",
            "epoch:  29  trainset auc:  0.9  dev set auc:  0.88\n",
            "epoch:  30  trainset auc:  0.9  dev set auc:  0.88\n",
            "epoch:  31  trainset auc:  0.9  dev set auc:  0.88\n",
            "epoch:  32  trainset auc:  0.9  dev set auc:  0.88\n",
            "epoch:  33  trainset auc:  0.9  dev set auc:  0.88\n",
            "epoch:  34  trainset auc:  0.9  dev set auc:  0.88\n",
            "epoch:  35  trainset auc:  0.9  dev set auc:  0.88\n",
            "epoch:  36  trainset auc:  0.9  dev set auc:  0.88\n",
            "epoch:  37  trainset auc:  0.9  dev set auc:  0.88\n",
            "epoch:  38  trainset auc:  0.9  dev set auc:  0.88\n",
            "epoch:  39  trainset auc:  0.91  dev set auc:  0.88\n",
            "epoch:  40  trainset auc:  0.91  dev set auc:  0.88\n",
            "epoch:  41  trainset auc:  0.9  dev set auc:  0.88\n",
            "epoch:  42  trainset auc:  0.91  dev set auc:  0.88\n",
            "epoch:  43  trainset auc:  0.91  dev set auc:  0.88\n",
            "epoch:  44  trainset auc:  0.91  dev set auc:  0.88\n",
            "epoch:  45  trainset auc:  0.91  dev set auc:  0.88\n",
            "epoch:  46  trainset auc:  0.91  dev set auc:  0.88\n",
            "epoch:  47  trainset auc:  0.91  dev set auc:  0.88\n",
            "epoch:  48  trainset auc:  0.91  dev set auc:  0.88\n",
            "epoch:  49  trainset auc:  0.91  dev set auc:  0.88\n",
            "epoch:  50  trainset auc:  0.91  dev set auc:  0.88\n"
          ],
          "name": "stdout"
        }
      ]
    },
    {
      "metadata": {
        "id": "GSkbCgo8ZShT",
        "colab_type": "code",
        "outputId": "631330b0-8f11-41e4-eb74-f2746aba988d",
        "colab": {
          "base_uri": "https://localhost:8080/",
          "height": 310
        }
      },
      "cell_type": "code",
      "source": [
        "import matplotlib.pyplot as plt\n",
        "%matplotlib inline\n",
        "\n",
        "epochs = np.array(range(len(train_set_auc))) + 1\n",
        "plt.figure(figsize=(10,4))\n",
        "plt.plot(epochs, train_set_auc, color = \"orange\", label='train')\n",
        "plt.plot(epochs, dev_set_auc, color = \"blue\", label='dev')\n",
        "plt.legend(loc='lower right')\n",
        "plt.title('Pretrained Embeddings Sentence Average')\n",
        "plt.xlabel('Epochs')\n",
        "plt.ylabel('AUC')\n",
        "# plt.ylim((-0.05, 1.05))\n",
        "plt.show()\n",
        "\n",
        "fn = 'Pretrained Embeddings Sentence Average.png'\n",
        "plt.savefig(fn)\n",
        "from google.colab import files\n",
        "files.download(fn) "
      ],
      "execution_count": 0,
      "outputs": [
        {
          "output_type": "display_data",
          "data": {
            "image/png": "[encoded data removed]",
            "text/plain": [
              "<Figure size 720x288 with 1 Axes>"
            ]
          },
          "metadata": {
            "tags": []
          }
        },
        {
          "output_type": "display_data",
          "data": {
            "text/plain": [
              "<Figure size 432x288 with 0 Axes>"
            ]
          },
          "metadata": {
            "tags": []
          }
        }
      ]
    },
    {
      "metadata": {
        "id": "uSIPjSzAZSu_",
        "colab_type": "code",
        "outputId": "b1908686-4137-4f06-b0c9-24d9e44c42a4",
        "colab": {
          "base_uri": "https://localhost:8080/",
          "height": 235
        }
      },
      "cell_type": "code",
      "source": [
        "\n",
        "!ls"
      ],
      "execution_count": 0,
      "outputs": [
        {
          "output_type": "stream",
          "text": [
            " glove.6B.100d.txt\n",
            " glove.6B.200d.txt\n",
            " glove.6B.300d.txt\n",
            " glove.6B.50d.txt\n",
            " glove.6B.zip\n",
            " pretrained_embeddings_sentence_average_0\n",
            " pretrained_embeddings_sentence_average_10\n",
            " pretrained_embeddings_sentence_average_20\n",
            " pretrained_embeddings_sentence_average_30\n",
            " pretrained_embeddings_sentence_average_40\n",
            " pretrained_embeddings_sentence_average_50\n",
            "'Pretrained Embeddings Sentence Average.png'\n",
            " sample_data\n"
          ],
          "name": "stdout"
        }
      ]
    },
    {
      "metadata": {
        "id": "OVkjs8_cNjag",
        "colab_type": "text"
      },
      "cell_type": "markdown",
      "source": [
        "How does it go on the test data?"
      ]
    },
    {
      "metadata": {
        "id": "GUbFJU4QJ7E6",
        "colab_type": "code",
        "outputId": "61f78887-bd7d-4899-9243-3a64a17a99fa",
        "colab": {
          "base_uri": "https://localhost:8080/",
          "height": 34
        }
      },
      "cell_type": "code",
      "source": [
        "net_1 = torch.nn.Sequential(\n",
        "        torch.nn.Linear(100, 200),\n",
        "        torch.nn.LeakyReLU(),\n",
        "        torch.nn.Linear(200, 100),\n",
        "        torch.nn.LeakyReLU(),\n",
        "        torch.nn.Linear(100, 1),\n",
        "    ).cuda()\n",
        "net_1.load_state_dict(torch.load('pretrained_embeddings_sentence_average_20'))\n",
        "get_dataset_auc(imdb_data_sentence_average['test'], net_1)"
      ],
      "execution_count": 0,
      "outputs": [
        {
          "output_type": "execute_result",
          "data": {
            "text/plain": [
              "0.8790636223999999"
            ]
          },
          "metadata": {
            "tags": []
          },
          "execution_count": 385
        }
      ]
    },
    {
      "metadata": {
        "id": "o8AdOvFBe3WH",
        "colab_type": "code",
        "colab": {}
      },
      "cell_type": "code",
      "source": [
        ""
      ],
      "execution_count": 0,
      "outputs": []
    },
    {
      "metadata": {
        "id": "1wSfIEv8e3km",
        "colab_type": "code",
        "colab": {}
      },
      "cell_type": "code",
      "source": [
        ""
      ],
      "execution_count": 0,
      "outputs": []
    }
  ]
}